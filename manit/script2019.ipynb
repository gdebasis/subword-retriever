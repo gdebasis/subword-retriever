{
 "cells": [
  {
   "cell_type": "code",
   "execution_count": 1,
   "id": "e66521c8",
   "metadata": {},
   "outputs": [
    {
     "name": "stdout",
     "output_type": "stream",
     "text": [
      "['/Users/manitk/.pyterrier/corpora/msmarco_passage/corpus/collection-gpt3.5.tsv', '/Users/manitk/.pyterrier/corpora/msmarco_passage/corpus/collection-sbert.tsv', '/Users/manitk/.pyterrier/corpora/msmarco_passage/corpus/collection.tsv']\n"
     ]
    }
   ],
   "source": [
    "import pyterrier as pt\n",
    "import tiktoken\n",
    "\n",
    "dataset = pt.datasets.get_dataset(\"msmarco_passage\")\n",
    "print(dataset.get_corpus())"
   ]
  },
  {
   "cell_type": "code",
   "execution_count": 2,
   "id": "99fcb709",
   "metadata": {},
   "outputs": [],
   "source": [
    "def printTopFrequentTerms(index_ref):\n",
    "    lexicon = index_ref.getLexicon()\n",
    "    term_freqs = []\n",
    "    iterator = lexicon.iterator()\n",
    "    while iterator.hasNext():\n",
    "        entry = iterator.next()\n",
    "        term_freqs.append((entry.getKey(), entry.getValue().getFrequency()))\n",
    "    top_terms = sorted(term_freqs, key=lambda x: x[1], reverse=True)[:50]\n",
    "    for term, freq in top_terms:\n",
    "        print(f\"{term}: {freq}\")"
   ]
  },
  {
   "cell_type": "code",
   "execution_count": 3,
   "id": "cf8b9291",
   "metadata": {},
   "outputs": [
    {
     "name": "stderr",
     "output_type": "stream",
     "text": [
      "Java started (triggered by IndexFactory.of) and loaded: pyterrier.java, pyterrier.terrier.java [version=5.11 (build: craig.macdonald 2025-01-13 21:29), helper_version=0.0.8]\n"
     ]
    },
    {
     "name": "stdout",
     "output_type": "stream",
     "text": [
      "19:45:49.993 [main] WARN org.terrier.structures.BaseCompressingMetaIndex -- Structure meta reading data file directly from disk (SLOW) - try index.meta.data-source=fileinmem in the index properties file. 1.9 GiB of memory would be required.\n",
      "Number of documents: 8841823\n",
      "Number of terms: 1170682\n",
      "Number of postings: 215238456\n",
      "Number of fields: 0\n",
      "Number of tokens: 288759529\n",
      "Field names: []\n",
      "Positions:   false\n",
      "\n",
      "1: 2354388\n",
      "can: 2275758\n",
      "2: 1854040\n",
      "will: 1318185\n",
      "3: 1286521\n",
      "year: 1132892\n",
      "time: 1018130\n",
      "mai: 956589\n",
      "state: 849629\n",
      "4: 827548\n",
      "dai: 793715\n",
      "new: 792746\n",
      "name: 780596\n",
      "5: 757367\n",
      "first: 706850\n",
      "includ: 703524\n",
      "like: 660114\n",
      "caus: 651638\n",
      "need: 598907\n",
      "number: 593676\n",
      "who: 585304\n",
      "peopl: 576899\n",
      "call: 572439\n",
      "work: 571835\n",
      "mean: 563717\n",
      "onli: 551496\n",
      "type: 551279\n",
      "water: 549419\n",
      "cost: 547188\n",
      "take: 546892\n",
      "10: 524506\n",
      "averag: 520107\n",
      "system: 512566\n",
      "form: 505577\n",
      "000: 489118\n",
      "unit: 486448\n",
      "part: 468220\n",
      "bodi: 467482\n",
      "6: 466800\n",
      "us: 465184\n",
      "help: 454774\n",
      "servic: 449359\n",
      "see: 446033\n",
      "cell: 444133\n",
      "blood: 442774\n",
      "hour: 441033\n",
      "area: 433671\n",
      "just: 424045\n",
      "gener: 421644\n",
      "person: 415976\n"
     ]
    }
   ],
   "source": [
    "INDEX_DIR = '/Users/manitk/Desktop/GIR/Pyterrier/combined/wordindex/data.properties'\n",
    "indexref = pt.IndexFactory.of(INDEX_DIR)\n",
    "print(indexref.getCollectionStatistics())\n",
    "printTopFrequentTerms(indexref)"
   ]
  },
  {
   "cell_type": "code",
   "execution_count": 6,
   "id": "fd762dfa",
   "metadata": {},
   "outputs": [
    {
     "name": "stdout",
     "output_type": "stream",
     "text": [
      "19:53:59.611 [main] WARN org.terrier.structures.BaseCompressingMetaIndex -- Structure meta reading data file directly from disk (SLOW) - try index.meta.data-source=fileinmem in the index properties file. 1.9 GiB of memory would be required.\n",
      "Number of documents: 8841823\n",
      "Number of terms: 1170682\n",
      "Number of postings: 215238456\n",
      "Number of fields: 0\n",
      "Number of tokens: 288759529\n",
      "Field names: []\n",
      "Positions:   false\n",
      "\n",
      "    nDCG@10  AP(rel=2)  AP(rel=3)       map\n",
      "0  0.479540   0.232201   0.163083  0.290681\n",
      "1  0.478310   0.232189   0.163141  0.290303\n",
      "2  0.524437   0.252482   0.194832  0.310570\n"
     ]
    }
   ],
   "source": [
    "from pyterrier.measures import *\n",
    "\n",
    "WORD_INDEX_DIR = '/Users/manitk/Desktop/GIR/Pyterrier/combined/wordindex/data.properties'\n",
    "word_index_ref = pt.IndexFactory.of(WORD_INDEX_DIR)\n",
    "\n",
    "print(word_index_ref.getCollectionStatistics())\n",
    "\n",
    "bm25 = pt.terrier.Retriever(word_index_ref, wmodel=\"BM25\", num_results=100)\n",
    "tfidf = pt.terrier.Retriever(word_index_ref, wmodel=\"TF_IDF\", num_results=100)\n",
    "rm3 = tfidf >> pt.rewrite.RM3(word_index_ref, fb_terms=10, fb_docs=10) >> tfidf\n",
    "\n",
    "results = pt.Experiment([bm25, tfidf, rm3], dataset.get_topics('test-2019'), dataset.get_qrels('test-2019'), eval_metrics=[nDCG@10, AP(rel=2), AP(rel=3), 'map'],names=[\"bm25\",\"tfidf\",\"rm3\"])\n",
    "print (results[[\"nDCG@10\", \"AP(rel=2)\", \"AP(rel=3)\", \"map\"]])"
   ]
  },
  {
   "cell_type": "code",
   "execution_count": 7,
   "id": "25c0da1d",
   "metadata": {},
   "outputs": [
    {
     "name": "stdout",
     "output_type": "stream",
     "text": [
      "19:54:56.415 [main] WARN org.terrier.structures.BaseCompressingMetaIndex -- Structure meta reading data file directly from disk (SLOW) - try index.meta.data-source=fileinmem in the index properties file. 2 GiB of memory would be required.\n",
      "Number of documents: 8841823\n",
      "Number of terms: 22887\n",
      "Number of postings: 242159486\n",
      "Number of fields: 0\n",
      "Number of tokens: 327156239\n",
      "Field names: []\n",
      "Positions:   false\n",
      "\n"
     ]
    }
   ],
   "source": [
    "INDEX_DIR = '/Users/manitk/Desktop/GIR/Pyterrier/combined/gpt3.5_index/data.properties'\n",
    "indexref = pt.IndexFactory.of(INDEX_DIR)\n",
    "print(indexref.getCollectionStatistics())\n",
    "\n",
    "# printTopFrequentTerms(indexref)"
   ]
  },
  {
   "cell_type": "code",
   "execution_count": 8,
   "id": "b36d30c4",
   "metadata": {},
   "outputs": [],
   "source": [
    "import csv\n",
    "\n",
    "def tokenize_text(input_file, output_file, model=\"gpt-3.5-turbo\"):\n",
    "    enc = tiktoken.encoding_for_model(model)\n",
    "    delimiters = {\",\", \";\", \".\", \"(\", \")\", \"{\", \"}\", \"$\", \"%\", \"!\", \"?\", \"'\", \"\\\"\"}\n",
    "\n",
    "    with open(input_file, 'r', encoding='utf-8') as infile, open(output_file, 'w', encoding='utf-8', newline='') as outfile:\n",
    "        reader = csv.reader(infile, delimiter='\\t')\n",
    "        writer = csv.writer(outfile, delimiter='\\t')\n",
    "\n",
    "        for row in reader:\n",
    "            if len(row) < 2:\n",
    "                continue  # Skip malformed lines\n",
    "\n",
    "            doc_id, text = row[0], row[1].lower()\n",
    "            tokenized_text = enc.encode(text)\n",
    "            tokenized_str = \" \".join(\n",
    "                token for t in tokenized_text \n",
    "                if (token := enc.decode_single_token_bytes(t).decode(\"utf-8\", errors=\"ignore\")) not in delimiters\n",
    "            )\n",
    "\n",
    "            tokenized_str = tokenized_str.replace(\"'s\", \"\")\n",
    "            writer.writerow([doc_id, tokenized_str])\n",
    "\n",
    "\n",
    "queries = dataset.get_topics('test-2019')\n",
    "queries.to_csv('msmarco_passage_test2019_queries.tsv', sep='\\t', index=False)\n",
    "\n",
    "input_file = \"/Users/manitk/Desktop/GIR/Pyterrier/combined/msmarco_passage_test2019_queries.tsv\"\n",
    "output_file = \"/Users/manitk/Desktop/GIR/Pyterrier/combined/msmarco_passage_test2019_queries-gpt3.5.tsv\"\n",
    "tokenize_text(input_file, output_file)"
   ]
  },
  {
   "cell_type": "code",
   "execution_count": 17,
   "id": "fcaa45d6",
   "metadata": {},
   "outputs": [
    {
     "name": "stdout",
     "output_type": "stream",
     "text": [
      "20:06:44.204 [main] WARN org.terrier.structures.BaseCompressingMetaIndex -- Structure meta reading data file directly from disk (SLOW) - try index.meta.data-source=fileinmem in the index properties file. 2 GiB of memory would be required.\n",
      "    nDCG@10  AP(rel=2)  AP(rel=3)       map\n",
      "0  0.420154   0.187534   0.147814  0.242088\n",
      "1  0.421618   0.187597   0.148047  0.241656\n",
      "2  0.473803   0.209243   0.165079  0.268330\n"
     ]
    }
   ],
   "source": [
    "import pandas as pd\n",
    "query_file = \"/Users/manitk/Desktop/GIR/Pyterrier/combined/msmarco_passage_test2019_queries-gpt3.5.tsv\"\n",
    "queries = pd.read_csv(query_file, sep='\\t', names=[\"qid\", \"query\"], dtype={\"qid\": str, \"query\": str})\n",
    "\n",
    "index_dir = \"./gpt3.5_index\"\n",
    "index_ref = pt.IndexFactory.of(index_dir)\n",
    "\n",
    "bm25 = pt.terrier.Retriever(index_ref, wmodel=\"BM25\", num_results=100)\n",
    "tfidf = pt.terrier.Retriever(index_ref, wmodel=\"TF_IDF\", num_results=100)\n",
    "rm3 = tfidf >> pt.rewrite.RM3(index_ref, fb_terms=10, fb_docs=10) >> tfidf\n",
    "\n",
    "results = pt.Experiment(\n",
    "    [bm25, tfidf, rm3],\n",
    "    queries,\n",
    "    dataset.get_qrels(\"test-2019\"),\n",
    "    eval_metrics=[nDCG@10, AP(rel=2), AP(rel=3), 'map'],\n",
    "    names=[\"bm25\",\"tfidf\",\"rm3\"]\n",
    ")\n",
    "\n",
    "print (results[[\"nDCG@10\", \"AP(rel=2)\", \"AP(rel=3)\", \"map\"]])"
   ]
  },
  {
   "cell_type": "code",
   "execution_count": null,
   "id": "f3ca3bee",
   "metadata": {},
   "outputs": [
    {
     "name": "stderr",
     "output_type": "stream",
     "text": [
      "/opt/homebrew/lib/python3.12/site-packages/tqdm/auto.py:21: TqdmWarning: IProgress not found. Please update jupyter and ipywidgets. See https://ipywidgets.readthedocs.io/en/stable/user_install.html\n",
      "  from .autonotebook import tqdm as notebook_tqdm\n"
     ]
    }
   ],
   "source": [
    "from sentence_transformers import SentenceTransformer, models\n",
    "import csv\n",
    "\n",
    "def sbert_tokenize_text(input_file, output_file, model_name='all-MiniLM-L6-v2'):\n",
    "    tokenizer = SentenceTransformer(model_name).tokenizer\n",
    "    with open(input_file, 'r', encoding='utf-8') as infile, open(output_file, 'w', encoding='utf-8', newline='') as outfile:\n",
    "        reader = csv.reader(infile, delimiter='\\t')\n",
    "        writer = csv.writer(outfile, delimiter='\\t')\n",
    "\n",
    "        for row in reader:\n",
    "            if len(row) < 2:\n",
    "                continue\n",
    "\n",
    "            doc_id, text = row[0], row[1].lower()\n",
    "            tokens = tokenizer.tokenize(text)\n",
    "            tokenized_str = ' '.join(tokens).replace(\"##\", \"\")  # Clean WordPiece tokens\n",
    "            writer.writerow([doc_id, tokenized_str])\n",
    "\n",
    "query_file = \"/Users/manitk/Desktop/GIR/Pyterrier/combined/msmarco_passage_test2019_queries.tsv\"\n",
    "output_query_file = \"/Users/manitk/Desktop/GIR/Pyterrier/combined/msmarco_passage_test2019_queries-sbert.tsv\"\n",
    "sbert_tokenize_text(query_file, output_query_file)\n",
    "\n"
   ]
  },
  {
   "cell_type": "code",
   "execution_count": null,
   "id": "b1b1f17c",
   "metadata": {},
   "outputs": [
    {
     "name": "stdout",
     "output_type": "stream",
     "text": [
      "20:07:33.597 [main] WARN org.terrier.structures.BaseCompressingMetaIndex -- Structure meta reading data file directly from disk (SLOW) - try index.meta.data-source=fileinmem in the index properties file. 1.9 GiB of memory would be required.\n",
      "    nDCG@10  AP(rel=2)  AP(rel=3)       map\n",
      "0  0.413136   0.193162   0.142155  0.243673\n",
      "1  0.413821   0.193531   0.142645  0.243769\n",
      "2  0.432539   0.211567   0.150619  0.264245\n"
     ]
    }
   ],
   "source": [
    "from pyterrier.measures import *\n",
    "import pandas as pd\n",
    "\n",
    "output_query_file = \"/Users/manitk/Desktop/GIR/Pyterrier/combined/msmarco_passage_test2019_queries-sbert.tsv\"\n",
    "queries = pd.read_csv(output_query_file, sep='\\t', names=[\"qid\", \"query\"], dtype={\"qid\": str, \"query\": str})\n",
    "\n",
    "index_ref = pt.IndexFactory.of(\"./sbert_index\")\n",
    "\n",
    "bm25 = pt.terrier.Retriever(index_ref, wmodel=\"BM25\", num_results=100)\n",
    "tfidf = pt.terrier.Retriever(index_ref, wmodel=\"TF_IDF\", num_results=100)\n",
    "rm3 = tfidf >> pt.rewrite.RM3(index_ref, fb_terms=10, fb_docs=10) >> tfidf\n",
    "\n",
    "results = pt.Experiment(\n",
    "    [bm25, tfidf, rm3],\n",
    "    queries,\n",
    "    pt.datasets.get_dataset(\"msmarco_passage\").get_qrels(\"test-2019\"),\n",
    "    eval_metrics=[nDCG@10, AP(rel=2), AP(rel=3), 'map'],\n",
    "    names=[\"bm25\",\"tfidf\",\"rm3\"]\n",
    ")\n",
    "\n",
    "print(results[[\"nDCG@10\", \"AP(rel=2)\", \"AP(rel=3)\", \"map\"]])"
   ]
  },
  {
   "cell_type": "code",
   "execution_count": 19,
   "id": "9b96cbc9",
   "metadata": {},
   "outputs": [
    {
     "name": "stdout",
     "output_type": "stream",
     "text": [
      "20:15:39.035 [main] WARN org.terrier.structures.BaseCompressingMetaIndex -- Structure meta reading data file directly from disk (SLOW) - try index.meta.data-source=fileinmem in the index properties file. 1.9 GiB of memory would be required.\n",
      "Number of documents: 8841823\n",
      "Number of terms: 17342\n",
      "Number of postings: 241019754\n",
      "Number of fields: 0\n",
      "Number of tokens: 327396708\n",
      "Field names: []\n",
      "Positions:   false\n",
      "\n"
     ]
    }
   ],
   "source": [
    "INDEX_DIR = '/Users/manitk/Desktop/GIR/Pyterrier/combined/sbert_index/data.properties'\n",
    "indexref = pt.IndexFactory.of(INDEX_DIR)\n",
    "print(indexref.getCollectionStatistics())"
   ]
  }
 ],
 "metadata": {
  "kernelspec": {
   "display_name": "Python 3",
   "language": "python",
   "name": "python3"
  },
  "language_info": {
   "codemirror_mode": {
    "name": "ipython",
    "version": 3
   },
   "file_extension": ".py",
   "mimetype": "text/x-python",
   "name": "python",
   "nbconvert_exporter": "python",
   "pygments_lexer": "ipython3",
   "version": "3.12.7"
  }
 },
 "nbformat": 4,
 "nbformat_minor": 5
}
